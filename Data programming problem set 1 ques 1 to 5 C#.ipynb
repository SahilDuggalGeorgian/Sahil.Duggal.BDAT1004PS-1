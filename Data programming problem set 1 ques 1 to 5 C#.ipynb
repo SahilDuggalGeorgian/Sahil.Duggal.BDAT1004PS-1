{
 "cells": [
  {
   "cell_type": "markdown",
   "id": "9cceec9a",
   "metadata": {},
   "source": [
    "Ques 1 - What data type is each of the following?\n"
   ]
  },
  {
   "cell_type": "code",
   "execution_count": 2,
   "id": "f9a78786",
   "metadata": {},
   "outputs": [
    {
     "name": "stdout",
     "output_type": "stream",
     "text": [
      "System.Int32\n",
      "System.Double\n",
      "System.Boolean\n",
      "System.Char\n",
      "System.Int32\n",
      "System.Int32\n",
      "System.Int32\n",
      "System.Int32\n",
      "System.Object[]\n",
      "System.Boolean\n",
      "System.Double\n"
     ]
    }
   ],
   "source": [
    " dynamic m = 5;\n",
    "Console.WriteLine(m.GetType());\n",
    "\n",
    "dynamic o = 5.0;\n",
    "Console.WriteLine(o.GetType());\n",
    "\n",
    "\n",
    "dynamic p = 5 > 1;\n",
    "Console.WriteLine(p.GetType());\n",
    "\n",
    "dynamic q = '5';\n",
    "Console.WriteLine(q.GetType());\n",
    "\n",
    "dynamic r = 5 * 2;\n",
    "Console.WriteLine(r.GetType());\n",
    "\n",
    "dynamic t = '5' * 2;\n",
    "Console.WriteLine(t.GetType());\n",
    "\n",
    "dynamic u = 5 / 2;\n",
    "Console.WriteLine(u.GetType());\n",
    "\n",
    "dynamic v = 5 % 2;\n",
    "Console.WriteLine(v.GetType());\n",
    "\n",
    "dynamic[] w = { 5, 1, 2 };\n",
    "Console.WriteLine(w.GetType());\n",
    "\n",
    "dynamic g = 5 == 3;\n",
    "Console.WriteLine(g.GetType());\n",
    "\n",
    "dynamic pi =Math.PI;\n",
    "Console.WriteLine(pi.GetType());"
   ]
  },
  {
   "cell_type": "markdown",
   "id": "73a881b8",
   "metadata": {},
   "source": [
    "Q 2 - Write (and evaluate) C# expressions that answer these questions:\n",
    "a. How many letters are there in 'Supercalifragilisticexpialidocious'?\n",
    "b. Does 'Supercalifragilisticexpialidocious' contain 'ice' as a substring? \n",
    "c. Which of the following words is the longest:\n",
    "Supercalifragilisticexpialidocious, Honorificabilitudinitatibus, or\n",
    "Bababadalgharaghtakamminarronnkonn?\n",
    "d. Which composer comes first in the dictionary: 'Berlioz', 'Borodin', 'Brian',\n",
    "'Bartok', 'Bellini', 'Buxtehude', 'Bernstein'. Which one comes last?\n"
   ]
  },
  {
   "cell_type": "code",
   "execution_count": 3,
   "id": "853d6604",
   "metadata": {},
   "outputs": [
    {
     "name": "stdout",
     "output_type": "stream",
     "text": [
      "the length of Supercalifragilisticexpialidocious is  34\n",
      "string 1 is  Supercalifragilisticexpialidocious\n",
      "string 2 is ice\n",
      "Does string 1 contain string 2 = True\n",
      "the longest word is Bababadalgharaghtakamminarronnkonn\n",
      "Berlioz\n",
      " Borodin\n",
      " Brian\n",
      " Bartok\n",
      " Bellini\n",
      " Buxtehude\n",
      " Bernstein\n",
      " \n",
      " sorted list is.. \n",
      "\n",
      "Bartok Bellini Berlioz Bernstein Borodin Brian Buxtehude \n",
      "the first and last words are Bartok Buxtehude\n"
     ]
    }
   ],
   "source": [
    "int len = \"Supercalifragilisticexpialidocious\".Length;\n",
    "Console.WriteLine($\"the length of Supercalifragilisticexpialidocious is  \"+  len);\n",
    "string str1 = \"Supercalifragilisticexpialidocious\";\n",
    "string str2 = \"ice\";\n",
    "Console.WriteLine(\"string 1 is  \" +str1);\n",
    "Console.WriteLine(\"string 2 is \" + str2);\n",
    "Console.WriteLine(\"Does string 1 contain string 2 = \" +str1.Contains(str2));\n",
    "string A = \"Supercalifragilisticexpialidocious\";\n",
    "string B = \"Honorificabilitudinitatibus\";\n",
    "string C = \"Bababadalgharaghtakamminarronnkonn\";\n",
    "string max = \"\";\n",
    "if(A.Length>B.Length && A.Length>C.Length)\n",
    "{\n",
    "    max = A;\n",
    "    Console.WriteLine(\"the longest word is \" + max); \n",
    " \n",
    "}\n",
    "else if (B.Length > A.Length && B.Length > C.Length)\n",
    "{ \n",
    "   max=B;\n",
    "    Console.WriteLine(\"the longest word is \" + max);\n",
    "\n",
    "}\n",
    "else\n",
    "{\n",
    "    max = C;\n",
    "    Console.WriteLine(\"the longest word is \" +max);\n",
    "}\n",
    "\n",
    "\n",
    "string[] values = { \"Berlioz\", \"Borodin\", \"Brian\",\n",
    "\"Bartok\", \"Bellini\", \"Buxtehude\", \"Bernstein\"};\n",
    "foreach(string value in values)\n",
    "{\n",
    "    Console.WriteLine(value);\n",
    "    Console.Write(' ');\n",
    "\n",
    "}\n",
    "//sorting\n",
    " Array.Sort(values);\n",
    "Console.WriteLine(\"\\n sorted list is.. \\n\");\n",
    "foreach(string value in values)\n",
    "{\n",
    "    Console.Write(value);\n",
    "    Console.Write(' ');\n",
    "\n",
    "}\n",
    "Console.WriteLine();\n",
    "var first = values.First();\n",
    "var last = values.Last();\n",
    "Console.WriteLine(\"the first and last words are \" + first + \" \" + last);\n"
   ]
  },
  {
   "cell_type": "markdown",
   "id": "40c354d2",
   "metadata": {},
   "source": [
    "Q 3 - Implement function triangleArea(a,b,c) that takes as input the lengths of the 3\n",
    "sides of a triangle and returns the area of the triangle. By Heron's formula, the area\n",
    "of a triangle with side lengths a, b, and c is\n",
    "s(s - a)(s -b)(s -c)\n",
    ", where\n",
    "s = (a+b+c)/2."
   ]
  },
  {
   "cell_type": "code",
   "execution_count": 5,
   "id": "faa14670",
   "metadata": {},
   "outputs": [
    {
     "name": "stdout",
     "output_type": "stream",
     "text": [
      "Enter the length of side 1:Enter the length of side 2:Enter the length of side 3:Area of a Triangle = 0"
     ]
    }
   ],
   "source": [
    "static double trianglearea(double a, double b, double c)\n",
    "    \n",
    "{\n",
    "   \n",
    "\n",
    "    double s = (a + b + c) / 2;\n",
    "\n",
    "    double Area = Math.Sqrt(s * (s - a) * (s - b) * (s - c));\n",
    "\n",
    "    \n",
    "    return Area;\n",
    "}\n",
    "Console.Write(\"Enter the length of side 1:\");\n",
    "double a = Convert.ToDouble(Console.ReadLine());\n",
    "Console.Write(\"Enter the length of side 2:\");\n",
    "double b = Convert.ToDouble(Console.ReadLine());\n",
    "\n",
    "Console.Write(\"Enter the length of side 3:\");\n",
    "double c = Convert.ToDouble(Console.ReadLine());\n",
    "Console.Write(\"Area of a Triangle = \" +trianglearea(a, b, c));\n",
    "Console.Readkey();"
   ]
  },
  {
   "cell_type": "markdown",
   "id": "175d5883",
   "metadata": {},
   "source": [
    "Q 4 - Write a program in C# Sharp to separate odd and even integers in separate arrays.\n",
    "Go to the editor\n",
    "Test Data :\n",
    "Input the number of elements to be stored in the array :5"
   ]
  },
  {
   "cell_type": "code",
   "execution_count": 6,
   "id": "e2959f23",
   "metadata": {},
   "outputs": [
    {
     "name": "stdout",
     "output_type": "stream",
     "text": [
      "\n",
      "\n",
      "Separate odd and even integers in separate arrays:\n",
      "------------------------------------------------------\n",
      "Input the number of elements to be stored in the array :Input 0 elements in the array :\n",
      "\n",
      "The Even elements are : \n",
      "\n",
      "The Odd elements are :\n",
      "\n",
      "\n"
     ]
    }
   ],
   "source": [
    "int[] arr1 = new int[10];\n",
    "int[] arr2 = new int[10];\n",
    "int[] arr3 = new int[10];\n",
    "int i, j = 0, k = 0, n;\n",
    "\n",
    "Console.Write(\"\\n\\nSeparate odd and even integers in separate arrays:\\n\");\n",
    "Console.Write(\"------------------------------------------------------\\n\");\n",
    "\n",
    "Console.Write(\"Input the number of elements to be stored in the array :\");\n",
    "n = Convert.ToInt32(Console.ReadLine());\n",
    "\n",
    "Console.Write(\"Input {0} elements in the array :\\n\", n);\n",
    "for (i = 0; i < n; i++)\n",
    "{\n",
    "    Console.Write(\"element - {0} : \", i);\n",
    "    arr1[i] = Convert.ToInt32(Console.ReadLine());\n",
    "}\n",
    "for (i = 0; i < n; i++)\n",
    "{\n",
    "    if (arr1[i] % 2 == 0)\n",
    "    {\n",
    "        arr2[j] = arr1[i];\n",
    "        j++;\n",
    "    }\n",
    "    else\n",
    "    {\n",
    "        arr3[k] = arr1[i];\n",
    "        k++;\n",
    "    }\n",
    "}\n",
    "\n",
    "Console.Write(\"\\nThe Even elements are : \\n\");\n",
    "for (i = 0; i < j; i++)\n",
    "{\n",
    "    Console.Write(\"{0} \", arr2[i]);\n",
    "}\n",
    "\n",
    "Console.Write(\"\\nThe Odd elements are :\\n\");\n",
    "for (i = 0; i < k; i++)\n",
    "{\n",
    "    Console.Write(\"{0} \", arr3[i]);\n",
    "}\n",
    "Console.Write(\"\\n\\n\");"
   ]
  },
  {
   "cell_type": "markdown",
   "id": "86594f1f",
   "metadata": {},
   "source": [
    "Q 5 - Write a function inside(x,y,x1,y1,x2,y2) that returns True or False\n",
    "depending on whether the point (x,y) lies in the rectangle with lower left\n",
    "corner (x1,y1) and upper right corner (x2,y2).\n",
    ">>> inside(1,1,0,0,2,3)\n",
    "True\n",
    ">>> inside(-1,-1,0,0,2,3)\n",
    "False\n",
    "b. Use function inside() from part a. to write an expression that tests whether\n",
    "the point (1,1) lies in both of the following rectangles: one with lower left\n",
    "corner (0.3, 0.5) and upper right corner (1.1, 0.7) and the other with lower\n",
    "left corner (0.5, 0.2) and upper right corner (1.1, 2). "
   ]
  },
  {
   "cell_type": "code",
   "execution_count": 7,
   "id": "0985d162",
   "metadata": {},
   "outputs": [
    {
     "name": "stdout",
     "output_type": "stream",
     "text": [
      "enter the value of X1: "
     ]
    },
    {
     "ename": "Error",
     "evalue": "System.ArgumentNullException: Value cannot be null. (Parameter 's')\r\n   at System.Single.Parse(String s)\r\n   at Submission#9.<<Initialize>>d__0.MoveNext()\r\n--- End of stack trace from previous location ---\r\n   at Microsoft.CodeAnalysis.Scripting.ScriptExecutionState.RunSubmissionsAsync[TResult](ImmutableArray`1 precedingExecutors, Func`2 currentExecutor, StrongBox`1 exceptionHolderOpt, Func`2 catchExceptionOpt, CancellationToken cancellationToken)",
     "output_type": "error",
     "traceback": [
      "System.ArgumentNullException: Value cannot be null. (Parameter 's')\r\n   at System.Single.Parse(String s)\r\n   at Submission#9.<<Initialize>>d__0.MoveNext()\r\n--- End of stack trace from previous location ---\r\n   at Microsoft.CodeAnalysis.Scripting.ScriptExecutionState.RunSubmissionsAsync[TResult](ImmutableArray`1 precedingExecutors, Func`2 currentExecutor, StrongBox`1 exceptionHolderOpt, Func`2 catchExceptionOpt, CancellationToken cancellationToken)",
      "   at System.Single.Parse(String s)",
      "   at Submission#9.<<Initialize>>d__0.MoveNext()",
      "--- End of stack trace from previous location ---",
      "   at Microsoft.CodeAnalysis.Scripting.ScriptExecutionState.RunSubmissionsAsync[TResult](ImmutableArray`1 precedingExecutors, Func`2 currentExecutor, StrongBox`1 exceptionHolderOpt, Func`2 catchExceptionOpt, CancellationToken cancellationToken)"
     ]
    }
   ],
   "source": [
    "static bool inside(float X1, float Y1, float X2, float Y2, float X, float Y)\n",
    "{\n",
    "    if (X > X1 && X<X2 && Y > Y1 && Y<Y2)\n",
    "    {\n",
    "    return true;\n",
    "\n",
    "    }\n",
    "\n",
    "        return false;\n",
    "    \n",
    "\n",
    "}\n",
    "Console.Write(\"enter the value of X1: \");\n",
    "float X1 = float.Parse(Console.ReadLine());\n",
    "\n",
    "Console.Write(\"enter the value of Y1: \");\n",
    "float Y1 = float.Parse(Console.ReadLine());\n",
    "\n",
    "Console.Write(\"enter the value of X2: \");\n",
    "float X2 = float.Parse(Console.ReadLine());\n",
    "\n",
    "Console.Write(\"enter the value of Y2: \");\n",
    "float Y2 = float.Parse(Console.ReadLine());\n",
    "\n",
    "Console.Write(\"enter the value of X: \");\n",
    "float X = float.Parse(Console.ReadLine());\n",
    "\n",
    "Console.Write(\"enter the value of Y: \");\n",
    "float Y = float.Parse(Console.ReadLine());\n",
    "\n",
    "Console.Write(inside(X1, Y1, X2, Y2, X, Y));\n",
    "Console.WriteLine(\"\\n\");\n",
    "Console.WriteLine(inside(0.3f, 0.5f, 1.1f, 0.7f,(float)1, (float)1));\n",
    "Console.WriteLine(\"\\n\");\n",
    "Console.WriteLine(inside(0.5f, 0.2f,  1.1f,(float)2, (float)1, (float)1));"
   ]
  },
  {
   "cell_type": "code",
   "execution_count": null,
   "id": "095d838a",
   "metadata": {},
   "outputs": [],
   "source": []
  }
 ],
 "metadata": {
  "kernelspec": {
   "display_name": ".NET (C#)",
   "language": "C#",
   "name": ".net-csharp"
  },
  "language_info": {
   "file_extension": ".cs",
   "mimetype": "text/x-csharp",
   "name": "C#",
   "pygments_lexer": "csharp",
   "version": "10.0"
  }
 },
 "nbformat": 4,
 "nbformat_minor": 5
}
